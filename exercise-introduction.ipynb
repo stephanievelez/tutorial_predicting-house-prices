{
 "cells": [
  {
   "cell_type": "markdown",
   "id": "d2e440d2",
   "metadata": {
    "papermill": {
     "duration": 0.006792,
     "end_time": "2022-08-03T11:28:01.858668",
     "exception": false,
     "start_time": "2022-08-03T11:28:01.851876",
     "status": "completed"
    },
    "tags": []
   },
   "source": [
    "**This notebook is an exercise in the [Intermediate Machine Learning](https://www.kaggle.com/learn/intermediate-machine-learning) course.  You can reference the tutorial at [this link](https://www.kaggle.com/alexisbcook/introduction).**\n",
    "\n",
    "---\n"
   ]
  },
  {
   "cell_type": "markdown",
   "id": "ce037726",
   "metadata": {
    "papermill": {
     "duration": 0.005709,
     "end_time": "2022-08-03T11:28:01.871731",
     "exception": false,
     "start_time": "2022-08-03T11:28:01.866022",
     "status": "completed"
    },
    "tags": []
   },
   "source": [
    "As a warm-up, you'll review some machine learning fundamentals and submit your initial results to a Kaggle competition.\n",
    "\n",
    "# Setup\n",
    "\n",
    "The questions below will give you feedback on your work. Run the following cell to set up the feedback system."
   ]
  },
  {
   "cell_type": "code",
   "execution_count": 1,
   "id": "38efc9e9",
   "metadata": {
    "execution": {
     "iopub.execute_input": "2022-08-03T11:28:01.887504Z",
     "iopub.status.busy": "2022-08-03T11:28:01.886838Z",
     "iopub.status.idle": "2022-08-03T11:28:03.616374Z",
     "shell.execute_reply": "2022-08-03T11:28:03.615339Z"
    },
    "papermill": {
     "duration": 1.741509,
     "end_time": "2022-08-03T11:28:03.619404",
     "exception": false,
     "start_time": "2022-08-03T11:28:01.877895",
     "status": "completed"
    },
    "tags": []
   },
   "outputs": [
    {
     "name": "stdout",
     "output_type": "stream",
     "text": [
      "Setup Complete\n"
     ]
    }
   ],
   "source": [
    "# Set up code checking\n",
    "import os\n",
    "if not os.path.exists(\"../input/train.csv\"):\n",
    "    os.symlink(\"../input/home-data-for-ml-course/train.csv\", \"../input/train.csv\")  \n",
    "    os.symlink(\"../input/home-data-for-ml-course/test.csv\", \"../input/test.csv\")  \n",
    "from learntools.core import binder\n",
    "binder.bind(globals())\n",
    "from learntools.ml_intermediate.ex1 import *\n",
    "print(\"Setup Complete\")"
   ]
  },
  {
   "cell_type": "markdown",
   "id": "0100c5e8",
   "metadata": {
    "papermill": {
     "duration": 0.005642,
     "end_time": "2022-08-03T11:28:03.630775",
     "exception": false,
     "start_time": "2022-08-03T11:28:03.625133",
     "status": "completed"
    },
    "tags": []
   },
   "source": [
    "You will work with data from the [Housing Prices Competition for Kaggle Learn Users](https://www.kaggle.com/c/home-data-for-ml-course) to predict home prices in Iowa using 79 explanatory variables describing (almost) every aspect of the homes.  \n",
    "\n",
    "![Ames Housing dataset image](https://i.imgur.com/lTJVG4e.png)\n",
    "\n",
    "Run the next code cell without changes to load the training and validation features in `X_train` and `X_valid`, along with the prediction targets in `y_train` and `y_valid`.  The test features are loaded in `X_test`.  (_If you need to review **features** and **prediction targets**, please check out [this short tutorial](https://www.kaggle.com/dansbecker/your-first-machine-learning-model).  To read about model **validation**, look [here](https://www.kaggle.com/dansbecker/model-validation).  Alternatively, if you'd prefer to look through a full course to review all of these topics, start [here](https://www.kaggle.com/learn/machine-learning).)_"
   ]
  },
  {
   "cell_type": "code",
   "execution_count": 2,
   "id": "fe3087ee",
   "metadata": {
    "execution": {
     "iopub.execute_input": "2022-08-03T11:28:03.643935Z",
     "iopub.status.busy": "2022-08-03T11:28:03.642629Z",
     "iopub.status.idle": "2022-08-03T11:28:03.748366Z",
     "shell.execute_reply": "2022-08-03T11:28:03.746732Z"
    },
    "papermill": {
     "duration": 0.115702,
     "end_time": "2022-08-03T11:28:03.751762",
     "exception": false,
     "start_time": "2022-08-03T11:28:03.636060",
     "status": "completed"
    },
    "tags": []
   },
   "outputs": [],
   "source": [
    "import pandas as pd\n",
    "from sklearn.model_selection import train_test_split\n",
    "\n",
    "# Read the data\n",
    "X_full = pd.read_csv('../input/train.csv', index_col='Id')\n",
    "X_test_full = pd.read_csv('../input/test.csv', index_col='Id')\n",
    "\n",
    "# Obtain target and predictors\n",
    "y = X_full.SalePrice\n",
    "features = ['LotArea', 'YearBuilt', '1stFlrSF', '2ndFlrSF', 'FullBath', 'BedroomAbvGr', 'TotRmsAbvGrd']\n",
    "X = X_full[features].copy()\n",
    "X_test = X_test_full[features].copy()\n",
    "\n",
    "# Break off validation set from training data\n",
    "X_train, X_valid, y_train, y_valid = train_test_split(X, y, train_size=0.8, test_size=0.2,\n",
    "                                                      random_state=0)"
   ]
  },
  {
   "cell_type": "markdown",
   "id": "184f38e8",
   "metadata": {
    "papermill": {
     "duration": 0.00585,
     "end_time": "2022-08-03T11:28:03.764387",
     "exception": false,
     "start_time": "2022-08-03T11:28:03.758537",
     "status": "completed"
    },
    "tags": []
   },
   "source": [
    "Use the next cell to print the first several rows of the data. It's a nice way to get an overview of the data you will use in your price prediction model."
   ]
  },
  {
   "cell_type": "code",
   "execution_count": 3,
   "id": "51352eac",
   "metadata": {
    "execution": {
     "iopub.execute_input": "2022-08-03T11:28:03.778553Z",
     "iopub.status.busy": "2022-08-03T11:28:03.778098Z",
     "iopub.status.idle": "2022-08-03T11:28:03.789804Z",
     "shell.execute_reply": "2022-08-03T11:28:03.788274Z"
    },
    "papermill": {
     "duration": 0.021962,
     "end_time": "2022-08-03T11:28:03.792352",
     "exception": false,
     "start_time": "2022-08-03T11:28:03.770390",
     "status": "completed"
    },
    "tags": []
   },
   "outputs": [
    {
     "data": {
      "text/plain": [
       "Id\n",
       "619    314813\n",
       "871    109500\n",
       "93     163500\n",
       "818    271000\n",
       "303    205000\n",
       "Name: SalePrice, dtype: int64"
      ]
     },
     "execution_count": 3,
     "metadata": {},
     "output_type": "execute_result"
    }
   ],
   "source": [
    "X_train.head()\n",
    "y_train.head()"
   ]
  },
  {
   "cell_type": "markdown",
   "id": "387d4ee2",
   "metadata": {
    "papermill": {
     "duration": 0.00549,
     "end_time": "2022-08-03T11:28:03.803832",
     "exception": false,
     "start_time": "2022-08-03T11:28:03.798342",
     "status": "completed"
    },
    "tags": []
   },
   "source": [
    "The next code cell defines five different random forest models.  Run this code cell without changes.  (_To review **random forests**, look [here](https://www.kaggle.com/dansbecker/random-forests)._)"
   ]
  },
  {
   "cell_type": "code",
   "execution_count": 4,
   "id": "59ea6ff0",
   "metadata": {
    "execution": {
     "iopub.execute_input": "2022-08-03T11:28:03.818344Z",
     "iopub.status.busy": "2022-08-03T11:28:03.817452Z",
     "iopub.status.idle": "2022-08-03T11:28:03.824611Z",
     "shell.execute_reply": "2022-08-03T11:28:03.823471Z"
    },
    "papermill": {
     "duration": 0.017569,
     "end_time": "2022-08-03T11:28:03.827578",
     "exception": false,
     "start_time": "2022-08-03T11:28:03.810009",
     "status": "completed"
    },
    "tags": []
   },
   "outputs": [],
   "source": [
    "from sklearn.ensemble import RandomForestRegressor\n",
    "\n",
    "# Define the models\n",
    "model_1 = RandomForestRegressor(n_estimators=50, random_state=0)\n",
    "model_2 = RandomForestRegressor(n_estimators=100, random_state=0)\n",
    "model_3 = RandomForestRegressor(n_estimators=100, criterion='absolute_error', random_state=0)\n",
    "model_4 = RandomForestRegressor(n_estimators=200, min_samples_split=20, random_state=0)\n",
    "model_5 = RandomForestRegressor(n_estimators=100, max_depth=7, random_state=0)\n",
    "\n",
    "models = [model_1, model_2, model_3, model_4, model_5]"
   ]
  },
  {
   "cell_type": "markdown",
   "id": "048335a4",
   "metadata": {
    "papermill": {
     "duration": 0.005701,
     "end_time": "2022-08-03T11:28:03.839457",
     "exception": false,
     "start_time": "2022-08-03T11:28:03.833756",
     "status": "completed"
    },
    "tags": []
   },
   "source": [
    "To select the best model out of the five, we define a function `score_model()` below.  This function returns the mean absolute error (MAE) from the validation set.  Recall that the best model will obtain the lowest MAE.  (_To review **mean absolute error**, look [here](https://www.kaggle.com/dansbecker/model-validation).)_\n",
    "\n",
    "Run the code cell without changes."
   ]
  },
  {
   "cell_type": "code",
   "execution_count": 5,
   "id": "1118edbb",
   "metadata": {
    "execution": {
     "iopub.execute_input": "2022-08-03T11:28:03.853184Z",
     "iopub.status.busy": "2022-08-03T11:28:03.852559Z",
     "iopub.status.idle": "2022-08-03T11:28:08.756964Z",
     "shell.execute_reply": "2022-08-03T11:28:08.755485Z"
    },
    "papermill": {
     "duration": 4.914765,
     "end_time": "2022-08-03T11:28:08.759926",
     "exception": false,
     "start_time": "2022-08-03T11:28:03.845161",
     "status": "completed"
    },
    "tags": []
   },
   "outputs": [
    {
     "name": "stdout",
     "output_type": "stream",
     "text": [
      "Model 1 MAE: 24015\n",
      "Model 2 MAE: 23740\n",
      "Model 3 MAE: 23528\n",
      "Model 4 MAE: 23996\n",
      "Model 5 MAE: 23706\n"
     ]
    }
   ],
   "source": [
    "from sklearn.metrics import mean_absolute_error\n",
    "\n",
    "# Function for comparing different models\n",
    "def score_model(model, X_t=X_train, X_v=X_valid, y_t=y_train, y_v=y_valid):\n",
    "    model.fit(X_t, y_t)\n",
    "    preds = model.predict(X_v)\n",
    "    return mean_absolute_error(y_v, preds)\n",
    "\n",
    "for i in range(0, len(models)):\n",
    "    mae = score_model(models[i])\n",
    "    print(\"Model %d MAE: %d\" % (i+1, mae))"
   ]
  },
  {
   "cell_type": "markdown",
   "id": "1ed5b335",
   "metadata": {
    "papermill": {
     "duration": 0.005393,
     "end_time": "2022-08-03T11:28:08.771180",
     "exception": false,
     "start_time": "2022-08-03T11:28:08.765787",
     "status": "completed"
    },
    "tags": []
   },
   "source": [
    "# Step 1: Evaluate several models\n",
    "\n",
    "Use the above results to fill in the line below.  Which model is the best model?  Your answer should be one of `model_1`, `model_2`, `model_3`, `model_4`, or `model_5`."
   ]
  },
  {
   "cell_type": "code",
   "execution_count": 6,
   "id": "a41b97e1",
   "metadata": {
    "execution": {
     "iopub.execute_input": "2022-08-03T11:28:08.786200Z",
     "iopub.status.busy": "2022-08-03T11:28:08.785622Z",
     "iopub.status.idle": "2022-08-03T11:28:08.797488Z",
     "shell.execute_reply": "2022-08-03T11:28:08.796054Z"
    },
    "papermill": {
     "duration": 0.023782,
     "end_time": "2022-08-03T11:28:08.801201",
     "exception": false,
     "start_time": "2022-08-03T11:28:08.777419",
     "status": "completed"
    },
    "tags": []
   },
   "outputs": [
    {
     "data": {
      "application/javascript": [
       "parent.postMessage({\"jupyterEvent\": \"custom.exercise_interaction\", \"data\": {\"outcomeType\": 1, \"valueTowardsCompletion\": 0.5, \"interactionType\": 1, \"questionType\": 2, \"questionId\": \"1_BestModel\", \"learnToolsVersion\": \"0.3.4\", \"failureMessage\": \"\", \"exceptionClass\": \"\", \"trace\": \"\"}}, \"*\")"
      ],
      "text/plain": [
       "<IPython.core.display.Javascript object>"
      ]
     },
     "metadata": {},
     "output_type": "display_data"
    },
    {
     "data": {
      "text/markdown": [
       "<span style=\"color:#33cc33\">Correct</span>"
      ],
      "text/plain": [
       "Correct"
      ]
     },
     "metadata": {},
     "output_type": "display_data"
    }
   ],
   "source": [
    "# Fill in the best model\n",
    "best_model = model_3\n",
    "\n",
    "# Check your answer\n",
    "step_1.check()"
   ]
  },
  {
   "cell_type": "code",
   "execution_count": 7,
   "id": "1e713348",
   "metadata": {
    "execution": {
     "iopub.execute_input": "2022-08-03T11:28:08.814885Z",
     "iopub.status.busy": "2022-08-03T11:28:08.814468Z",
     "iopub.status.idle": "2022-08-03T11:28:08.821028Z",
     "shell.execute_reply": "2022-08-03T11:28:08.819404Z"
    },
    "papermill": {
     "duration": 0.017077,
     "end_time": "2022-08-03T11:28:08.824270",
     "exception": false,
     "start_time": "2022-08-03T11:28:08.807193",
     "status": "completed"
    },
    "tags": []
   },
   "outputs": [],
   "source": [
    "# Lines below will give you a hint or solution code\n",
    "#step_1.hint()\n",
    "#step_1.solution()"
   ]
  },
  {
   "cell_type": "markdown",
   "id": "2f190db3",
   "metadata": {
    "papermill": {
     "duration": 0.00557,
     "end_time": "2022-08-03T11:28:08.835925",
     "exception": false,
     "start_time": "2022-08-03T11:28:08.830355",
     "status": "completed"
    },
    "tags": []
   },
   "source": [
    "# Step 2: Generate test predictions\n",
    "\n",
    "Great. You know how to evaluate what makes an accurate model. Now it's time to go through the modeling process and make predictions. In the line below, create a Random Forest model with the variable name `my_model`."
   ]
  },
  {
   "cell_type": "code",
   "execution_count": 8,
   "id": "aa0cae7c",
   "metadata": {
    "execution": {
     "iopub.execute_input": "2022-08-03T11:28:08.851024Z",
     "iopub.status.busy": "2022-08-03T11:28:08.850512Z",
     "iopub.status.idle": "2022-08-03T11:28:08.860886Z",
     "shell.execute_reply": "2022-08-03T11:28:08.859474Z"
    },
    "papermill": {
     "duration": 0.021534,
     "end_time": "2022-08-03T11:28:08.863437",
     "exception": false,
     "start_time": "2022-08-03T11:28:08.841903",
     "status": "completed"
    },
    "tags": []
   },
   "outputs": [
    {
     "data": {
      "application/javascript": [
       "parent.postMessage({\"jupyterEvent\": \"custom.exercise_interaction\", \"data\": {\"outcomeType\": 1, \"valueTowardsCompletion\": 0.5, \"interactionType\": 1, \"questionType\": 2, \"questionId\": \"2_Predictions\", \"learnToolsVersion\": \"0.3.4\", \"failureMessage\": \"\", \"exceptionClass\": \"\", \"trace\": \"\"}}, \"*\")"
      ],
      "text/plain": [
       "<IPython.core.display.Javascript object>"
      ]
     },
     "metadata": {},
     "output_type": "display_data"
    },
    {
     "data": {
      "text/markdown": [
       "<span style=\"color:#33cc33\">Correct</span>"
      ],
      "text/plain": [
       "Correct"
      ]
     },
     "metadata": {},
     "output_type": "display_data"
    }
   ],
   "source": [
    "# Define a model\n",
    "my_model = RandomForestRegressor(n_estimators=100, criterion='absolute_error', random_state=0)\n",
    "\n",
    "# Check your answer\n",
    "step_2.check()"
   ]
  },
  {
   "cell_type": "code",
   "execution_count": 9,
   "id": "5a0035c6",
   "metadata": {
    "execution": {
     "iopub.execute_input": "2022-08-03T11:28:08.878185Z",
     "iopub.status.busy": "2022-08-03T11:28:08.877765Z",
     "iopub.status.idle": "2022-08-03T11:28:08.883260Z",
     "shell.execute_reply": "2022-08-03T11:28:08.881854Z"
    },
    "papermill": {
     "duration": 0.01638,
     "end_time": "2022-08-03T11:28:08.885971",
     "exception": false,
     "start_time": "2022-08-03T11:28:08.869591",
     "status": "completed"
    },
    "tags": []
   },
   "outputs": [],
   "source": [
    "# Lines below will give you a hint or solution code\n",
    "#step_2.hint()\n",
    "#step_2.solution()"
   ]
  },
  {
   "cell_type": "markdown",
   "id": "e2553558",
   "metadata": {
    "papermill": {
     "duration": 0.006384,
     "end_time": "2022-08-03T11:28:08.898860",
     "exception": false,
     "start_time": "2022-08-03T11:28:08.892476",
     "status": "completed"
    },
    "tags": []
   },
   "source": [
    "Run the next code cell without changes.  The code fits the model to the training and validation data, and then generates test predictions that are saved to a CSV file.  These test predictions can be submitted directly to the competition!"
   ]
  },
  {
   "cell_type": "code",
   "execution_count": 10,
   "id": "6c67229b",
   "metadata": {
    "execution": {
     "iopub.execute_input": "2022-08-03T11:28:08.913377Z",
     "iopub.status.busy": "2022-08-03T11:28:08.912922Z",
     "iopub.status.idle": "2022-08-03T11:28:13.082606Z",
     "shell.execute_reply": "2022-08-03T11:28:13.080816Z"
    },
    "papermill": {
     "duration": 4.180163,
     "end_time": "2022-08-03T11:28:13.085423",
     "exception": false,
     "start_time": "2022-08-03T11:28:08.905260",
     "status": "completed"
    },
    "tags": []
   },
   "outputs": [
    {
     "data": {
      "text/html": [
       "<div>\n",
       "<style scoped>\n",
       "    .dataframe tbody tr th:only-of-type {\n",
       "        vertical-align: middle;\n",
       "    }\n",
       "\n",
       "    .dataframe tbody tr th {\n",
       "        vertical-align: top;\n",
       "    }\n",
       "\n",
       "    .dataframe thead th {\n",
       "        text-align: right;\n",
       "    }\n",
       "</style>\n",
       "<table border=\"1\" class=\"dataframe\">\n",
       "  <thead>\n",
       "    <tr style=\"text-align: right;\">\n",
       "      <th></th>\n",
       "      <th>Id</th>\n",
       "      <th>SalePrice</th>\n",
       "    </tr>\n",
       "  </thead>\n",
       "  <tbody>\n",
       "    <tr>\n",
       "      <th>0</th>\n",
       "      <td>1461</td>\n",
       "      <td>119433.08</td>\n",
       "    </tr>\n",
       "    <tr>\n",
       "      <th>1</th>\n",
       "      <td>1462</td>\n",
       "      <td>158367.50</td>\n",
       "    </tr>\n",
       "    <tr>\n",
       "      <th>2</th>\n",
       "      <td>1463</td>\n",
       "      <td>185351.21</td>\n",
       "    </tr>\n",
       "    <tr>\n",
       "      <th>3</th>\n",
       "      <td>1464</td>\n",
       "      <td>178343.12</td>\n",
       "    </tr>\n",
       "    <tr>\n",
       "      <th>4</th>\n",
       "      <td>1465</td>\n",
       "      <td>192898.29</td>\n",
       "    </tr>\n",
       "  </tbody>\n",
       "</table>\n",
       "</div>"
      ],
      "text/plain": [
       "     Id  SalePrice\n",
       "0  1461  119433.08\n",
       "1  1462  158367.50\n",
       "2  1463  185351.21\n",
       "3  1464  178343.12\n",
       "4  1465  192898.29"
      ]
     },
     "execution_count": 10,
     "metadata": {},
     "output_type": "execute_result"
    }
   ],
   "source": [
    "# Fit the model to the training data\n",
    "my_model.fit(X, y)\n",
    "\n",
    "# Generate test predictions\n",
    "preds_test = my_model.predict(X_test)\n",
    "\n",
    "# Save predictions in format used for competition scoring\n",
    "output = pd.DataFrame({'Id': X_test.index,\n",
    "                       'SalePrice': preds_test})\n",
    "output.to_csv('submission.csv', index=False)\n",
    "output.head()"
   ]
  },
  {
   "cell_type": "markdown",
   "id": "be06bbef",
   "metadata": {
    "papermill": {
     "duration": 0.006225,
     "end_time": "2022-08-03T11:28:13.098187",
     "exception": false,
     "start_time": "2022-08-03T11:28:13.091962",
     "status": "completed"
    },
    "tags": []
   },
   "source": [
    "# Submit your results\n",
    "\n",
    "Once you have successfully completed Step 2, you're ready to submit your results to the leaderboard!  First, you'll need to join the competition if you haven't already.  So open a new window by clicking on [this link](https://www.kaggle.com/c/home-data-for-ml-course).  Then click on the **Join Competition** button.  _(If you see a \"Submit Predictions\" button instead of a \"Join Competition\" button, you have already joined the competition, and don't need to do so again.)_\n",
    "\n",
    "Next, follow the instructions below:\n",
    "1. Begin by clicking on the **Save Version** button in the top right corner of the window.  This will generate a pop-up window.  \n",
    "2. Ensure that the **Save and Run All** option is selected, and then click on the **Save** button.\n",
    "3. This generates a window in the bottom left corner of the notebook.  After it has finished running, click on the number to the right of the **Save Version** button.  This pulls up a list of versions on the right of the screen.  Click on the ellipsis **(...)** to the right of the most recent version, and select **Open in Viewer**.  This brings you into view mode of the same page. You will need to scroll down to get back to these instructions.\n",
    "4. Click on the **Output** tab on the right of the screen.  Then, click on the file you would like to submit, and click on the **Submit** button to submit your results to the leaderboard.\n",
    "\n",
    "You have now successfully submitted to the competition!\n",
    "\n",
    "If you want to keep working to improve your performance, select the **Edit** button in the top right of the screen. Then you can change your code and repeat the process. There's a lot of room to improve, and you will climb up the leaderboard as you work.\n"
   ]
  },
  {
   "cell_type": "markdown",
   "id": "020b0bcb",
   "metadata": {
    "papermill": {
     "duration": 0.006694,
     "end_time": "2022-08-03T11:28:13.112359",
     "exception": false,
     "start_time": "2022-08-03T11:28:13.105665",
     "status": "completed"
    },
    "tags": []
   },
   "source": [
    "# Keep going\n",
    "\n",
    "You've made your first model. But how can you quickly make it better?\n",
    "\n",
    "Learn how to improve your competition results by incorporating columns with **[missing values](https://www.kaggle.com/alexisbcook/missing-values)**."
   ]
  },
  {
   "cell_type": "markdown",
   "id": "2f0d945b",
   "metadata": {
    "papermill": {
     "duration": 0.006786,
     "end_time": "2022-08-03T11:28:13.126488",
     "exception": false,
     "start_time": "2022-08-03T11:28:13.119702",
     "status": "completed"
    },
    "tags": []
   },
   "source": [
    "---\n",
    "\n",
    "\n",
    "\n",
    "\n",
    "*Have questions or comments? Visit the [course discussion forum](https://www.kaggle.com/learn/intermediate-machine-learning/discussion) to chat with other learners.*"
   ]
  }
 ],
 "metadata": {
  "kernelspec": {
   "display_name": "Python 3",
   "language": "python",
   "name": "python3"
  },
  "language_info": {
   "codemirror_mode": {
    "name": "ipython",
    "version": 3
   },
   "file_extension": ".py",
   "mimetype": "text/x-python",
   "name": "python",
   "nbconvert_exporter": "python",
   "pygments_lexer": "ipython3",
   "version": "3.7.12"
  },
  "papermill": {
   "default_parameters": {},
   "duration": 24.945502,
   "end_time": "2022-08-03T11:28:14.059154",
   "environment_variables": {},
   "exception": null,
   "input_path": "__notebook__.ipynb",
   "output_path": "__notebook__.ipynb",
   "parameters": {},
   "start_time": "2022-08-03T11:27:49.113652",
   "version": "2.3.4"
  }
 },
 "nbformat": 4,
 "nbformat_minor": 5
}
